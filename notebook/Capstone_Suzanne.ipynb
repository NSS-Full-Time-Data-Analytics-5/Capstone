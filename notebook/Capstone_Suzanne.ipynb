{
 "cells": [
  {
   "cell_type": "markdown",
   "id": "627082ed",
   "metadata": {},
   "source": [
    "# Traffic Incident Management in Nashville, TN"
   ]
  },
  {
   "cell_type": "markdown",
   "id": "b12993b0",
   "metadata": {},
   "source": [
    "### Loading the libraries"
   ]
  },
  {
   "cell_type": "code",
   "execution_count": 3,
   "id": "3dc753bb",
   "metadata": {},
   "outputs": [],
   "source": [
    "#from shapely.geometry import Point\n",
    "import pandas as pd\n",
    "#import geopandas as gpd\n",
    "import seaborn as sns\n",
    "import numpy as np\n",
    "import matplotlib.pyplot as plt\n",
    "#import folium\n",
    "import datetime\n",
    "import math\n",
    "import re\n",
    "#from folium.plugins import MarkerCluster\n",
    "#from folium.plugins import FastMarkerCluster\n",
    "\n",
    "%matplotlib inline"
   ]
  },
  {
   "cell_type": "markdown",
   "id": "d173ef3e",
   "metadata": {},
   "source": [
    "### Importing the data"
   ]
  },
  {
   "cell_type": "code",
   "execution_count": 4,
   "id": "a781c07b",
   "metadata": {},
   "outputs": [],
   "source": [
    "traffic_df = pd.read_excel('../data/MASTER File.xlsx')\n",
    "d_weather = pd.read_excel('../data/Daily Weather Formatted.xlsx')\n",
    "h_weather = pd.read_excel('../data/Hourly Weather Formatted.xlsx')"
   ]
  },
  {
   "cell_type": "markdown",
   "id": "40c3b5e7",
   "metadata": {},
   "source": [
    "### Reviewing the Traffic Data"
   ]
  },
  {
   "cell_type": "code",
   "execution_count": 5,
   "id": "9ea3cb76",
   "metadata": {},
   "outputs": [
    {
     "name": "stdout",
     "output_type": "stream",
     "text": [
      "(33730, 21)\n"
     ]
    }
   ],
   "source": [
    "print(traffic_df.shape)"
   ]
  },
  {
   "cell_type": "code",
   "execution_count": 6,
   "id": "1eb4ac29",
   "metadata": {
    "collapsed": true
   },
   "outputs": [
    {
     "ename": "AttributeError",
     "evalue": "'DataFrame' object has no attribute 'crs'",
     "output_type": "error",
     "traceback": [
      "\u001b[1;31m---------------------------------------------------------------------------\u001b[0m",
      "\u001b[1;31mAttributeError\u001b[0m                            Traceback (most recent call last)",
      "\u001b[1;32m<ipython-input-6-aeb8a4e448a8>\u001b[0m in \u001b[0;36m<module>\u001b[1;34m\u001b[0m\n\u001b[1;32m----> 1\u001b[1;33m \u001b[0mprint\u001b[0m\u001b[1;33m(\u001b[0m\u001b[0mtraffic_df\u001b[0m\u001b[1;33m.\u001b[0m\u001b[0mcrs\u001b[0m\u001b[1;33m)\u001b[0m\u001b[1;33m\u001b[0m\u001b[1;33m\u001b[0m\u001b[0m\n\u001b[0m",
      "\u001b[1;32m~\\anaconda3\\lib\\site-packages\\pandas\\core\\generic.py\u001b[0m in \u001b[0;36m__getattr__\u001b[1;34m(self, name)\u001b[0m\n\u001b[0;32m   5463\u001b[0m             \u001b[1;32mif\u001b[0m \u001b[0mself\u001b[0m\u001b[1;33m.\u001b[0m\u001b[0m_info_axis\u001b[0m\u001b[1;33m.\u001b[0m\u001b[0m_can_hold_identifiers_and_holds_name\u001b[0m\u001b[1;33m(\u001b[0m\u001b[0mname\u001b[0m\u001b[1;33m)\u001b[0m\u001b[1;33m:\u001b[0m\u001b[1;33m\u001b[0m\u001b[1;33m\u001b[0m\u001b[0m\n\u001b[0;32m   5464\u001b[0m                 \u001b[1;32mreturn\u001b[0m \u001b[0mself\u001b[0m\u001b[1;33m[\u001b[0m\u001b[0mname\u001b[0m\u001b[1;33m]\u001b[0m\u001b[1;33m\u001b[0m\u001b[1;33m\u001b[0m\u001b[0m\n\u001b[1;32m-> 5465\u001b[1;33m             \u001b[1;32mreturn\u001b[0m \u001b[0mobject\u001b[0m\u001b[1;33m.\u001b[0m\u001b[0m__getattribute__\u001b[0m\u001b[1;33m(\u001b[0m\u001b[0mself\u001b[0m\u001b[1;33m,\u001b[0m \u001b[0mname\u001b[0m\u001b[1;33m)\u001b[0m\u001b[1;33m\u001b[0m\u001b[1;33m\u001b[0m\u001b[0m\n\u001b[0m\u001b[0;32m   5466\u001b[0m \u001b[1;33m\u001b[0m\u001b[0m\n\u001b[0;32m   5467\u001b[0m     \u001b[1;32mdef\u001b[0m \u001b[0m__setattr__\u001b[0m\u001b[1;33m(\u001b[0m\u001b[0mself\u001b[0m\u001b[1;33m,\u001b[0m \u001b[0mname\u001b[0m\u001b[1;33m:\u001b[0m \u001b[0mstr\u001b[0m\u001b[1;33m,\u001b[0m \u001b[0mvalue\u001b[0m\u001b[1;33m)\u001b[0m \u001b[1;33m->\u001b[0m \u001b[1;32mNone\u001b[0m\u001b[1;33m:\u001b[0m\u001b[1;33m\u001b[0m\u001b[1;33m\u001b[0m\u001b[0m\n",
      "\u001b[1;31mAttributeError\u001b[0m: 'DataFrame' object has no attribute 'crs'"
     ]
    }
   ],
   "source": [
    "#keep in case\n",
    "#print(traffic_df.crs)"
   ]
  },
  {
   "cell_type": "code",
   "execution_count": 17,
   "id": "d1581905",
   "metadata": {
    "collapsed": true
   },
   "outputs": [
    {
     "data": {
      "text/html": [
       "<div>\n",
       "<style scoped>\n",
       "    .dataframe tbody tr th:only-of-type {\n",
       "        vertical-align: middle;\n",
       "    }\n",
       "\n",
       "    .dataframe tbody tr th {\n",
       "        vertical-align: top;\n",
       "    }\n",
       "\n",
       "    .dataframe thead th {\n",
       "        text-align: right;\n",
       "    }\n",
       "</style>\n",
       "<table border=\"1\" class=\"dataframe\">\n",
       "  <thead>\n",
       "    <tr style=\"text-align: right;\">\n",
       "      <th></th>\n",
       "      <th>Region</th>\n",
       "      <th>Incident ID</th>\n",
       "      <th>Incident Type</th>\n",
       "      <th>Full Location</th>\n",
       "      <th>Start Date</th>\n",
       "      <th>Start Time</th>\n",
       "      <th>Duration (mins)</th>\n",
       "      <th>Lanes\\nBlocked</th>\n",
       "      <th>Blockage\\nDuration</th>\n",
       "      <th>Resp Time</th>\n",
       "      <th>...</th>\n",
       "      <th>Key</th>\n",
       "      <th>County</th>\n",
       "      <th>Interstate</th>\n",
       "      <th>Route</th>\n",
       "      <th>Direction</th>\n",
       "      <th>Unnamed: 16</th>\n",
       "      <th>Description</th>\n",
       "      <th>Inc Mile Marker</th>\n",
       "      <th>Latitude</th>\n",
       "      <th>Longitude</th>\n",
       "    </tr>\n",
       "  </thead>\n",
       "  <tbody>\n",
       "    <tr>\n",
       "      <th>0</th>\n",
       "      <td>3</td>\n",
       "      <td>25986</td>\n",
       "      <td>Overturned Vehicle</td>\n",
       "      <td>ROBERTSON on Interstate 65 Southbound, At EXIT...</td>\n",
       "      <td>44362.657535</td>\n",
       "      <td>44362.657535</td>\n",
       "      <td>338.200000</td>\n",
       "      <td>2</td>\n",
       "      <td>320.266667</td>\n",
       "      <td>0.116667</td>\n",
       "      <td>...</td>\n",
       "      <td>21476</td>\n",
       "      <td>ROBERTSON</td>\n",
       "      <td>I-65S</td>\n",
       "      <td>I-65</td>\n",
       "      <td>Southbound</td>\n",
       "      <td>At</td>\n",
       "      <td>EXIT 104 SR-257 / BETHEL RD. / RIDGETOP</td>\n",
       "      <td>104.0</td>\n",
       "      <td>36.419130</td>\n",
       "      <td>-86.717748</td>\n",
       "    </tr>\n",
       "    <tr>\n",
       "      <th>1</th>\n",
       "      <td>3</td>\n",
       "      <td>769</td>\n",
       "      <td>MultiVehicle Crash</td>\n",
       "      <td>DAVIDSON on Interstate 65 Northbound, At EXIT ...</td>\n",
       "      <td>44147.647211</td>\n",
       "      <td>44147.647211</td>\n",
       "      <td>19.400000</td>\n",
       "      <td>1</td>\n",
       "      <td>16.333333</td>\n",
       "      <td>0.333333</td>\n",
       "      <td>...</td>\n",
       "      <td>32</td>\n",
       "      <td>DAVIDSON</td>\n",
       "      <td>I-65N</td>\n",
       "      <td>I-65</td>\n",
       "      <td>Northbound</td>\n",
       "      <td>At</td>\n",
       "      <td>EXIT 4 RIVERGATE PKWY. / GOODLETTSVILLE</td>\n",
       "      <td>4.0</td>\n",
       "      <td>35.048795</td>\n",
       "      <td>-86.880272</td>\n",
       "    </tr>\n",
       "    <tr>\n",
       "      <th>2</th>\n",
       "      <td>3</td>\n",
       "      <td>5254</td>\n",
       "      <td>MultiVehicle Crash</td>\n",
       "      <td>DAVIDSON on Interstate 65 Northbound, At EXIT ...</td>\n",
       "      <td>44188.653657</td>\n",
       "      <td>44188.653657</td>\n",
       "      <td>32.466667</td>\n",
       "      <td>2</td>\n",
       "      <td>15.116667</td>\n",
       "      <td>1.116667</td>\n",
       "      <td>...</td>\n",
       "      <td>3705</td>\n",
       "      <td>DAVIDSON</td>\n",
       "      <td>I-65N</td>\n",
       "      <td>I-65</td>\n",
       "      <td>Northbound</td>\n",
       "      <td>At</td>\n",
       "      <td>EXIT 4 RIVERGATE PKWY. / GOODLETTSVILLE</td>\n",
       "      <td>4.0</td>\n",
       "      <td>35.048795</td>\n",
       "      <td>-86.880272</td>\n",
       "    </tr>\n",
       "    <tr>\n",
       "      <th>3</th>\n",
       "      <td>3</td>\n",
       "      <td>9621</td>\n",
       "      <td>MultiVehicle Crash</td>\n",
       "      <td>DAVIDSON on Interstate 65 Northbound, At EXIT ...</td>\n",
       "      <td>44232.863935</td>\n",
       "      <td>44232.863935</td>\n",
       "      <td>33.066667</td>\n",
       "      <td>0</td>\n",
       "      <td>NaN</td>\n",
       "      <td>NaN</td>\n",
       "      <td>...</td>\n",
       "      <td>7579</td>\n",
       "      <td>DAVIDSON</td>\n",
       "      <td>I-65N</td>\n",
       "      <td>I-65</td>\n",
       "      <td>Northbound</td>\n",
       "      <td>At</td>\n",
       "      <td>EXIT 4 RIVERGATE PKWY. / GOODLETTSVILLE</td>\n",
       "      <td>4.0</td>\n",
       "      <td>35.048795</td>\n",
       "      <td>-86.880272</td>\n",
       "    </tr>\n",
       "    <tr>\n",
       "      <th>4</th>\n",
       "      <td>3</td>\n",
       "      <td>10090</td>\n",
       "      <td>Disabled Vehicle</td>\n",
       "      <td>DAVIDSON on Interstate 65 Northbound, At EXIT ...</td>\n",
       "      <td>44237.649907</td>\n",
       "      <td>44237.649907</td>\n",
       "      <td>197.133333</td>\n",
       "      <td>0</td>\n",
       "      <td>NaN</td>\n",
       "      <td>3.016667</td>\n",
       "      <td>...</td>\n",
       "      <td>7957</td>\n",
       "      <td>DAVIDSON</td>\n",
       "      <td>I-65N</td>\n",
       "      <td>I-65</td>\n",
       "      <td>Northbound</td>\n",
       "      <td>At</td>\n",
       "      <td>EXIT 4 RIVERGATE PKWY. / GOODLETTSVILLE</td>\n",
       "      <td>4.0</td>\n",
       "      <td>35.048795</td>\n",
       "      <td>-86.880272</td>\n",
       "    </tr>\n",
       "  </tbody>\n",
       "</table>\n",
       "<p>5 rows × 21 columns</p>\n",
       "</div>"
      ],
      "text/plain": [
       "   Region  Incident ID       Incident Type  \\\n",
       "0       3        25986  Overturned Vehicle   \n",
       "1       3          769  MultiVehicle Crash   \n",
       "2       3         5254  MultiVehicle Crash   \n",
       "3       3         9621  MultiVehicle Crash   \n",
       "4       3        10090    Disabled Vehicle   \n",
       "\n",
       "                                      Full Location     Start Date  \\\n",
       "0  ROBERTSON on Interstate 65 Southbound, At EXIT...  44362.657535   \n",
       "1  DAVIDSON on Interstate 65 Northbound, At EXIT ...  44147.647211   \n",
       "2  DAVIDSON on Interstate 65 Northbound, At EXIT ...  44188.653657   \n",
       "3  DAVIDSON on Interstate 65 Northbound, At EXIT ...  44232.863935   \n",
       "4  DAVIDSON on Interstate 65 Northbound, At EXIT ...  44237.649907   \n",
       "\n",
       "     Start Time  Duration (mins)  Lanes\\nBlocked  Blockage\\nDuration  \\\n",
       "0  44362.657535       338.200000               2          320.266667   \n",
       "1  44147.647211        19.400000               1           16.333333   \n",
       "2  44188.653657        32.466667               2           15.116667   \n",
       "3  44232.863935        33.066667               0                 NaN   \n",
       "4  44237.649907       197.133333               0                 NaN   \n",
       "\n",
       "   Resp Time  ...   Key      County Interstate Route   Direction Unnamed: 16  \\\n",
       "0   0.116667  ...  21476  ROBERTSON      I-65S  I-65  Southbound          At   \n",
       "1   0.333333  ...     32   DAVIDSON      I-65N  I-65  Northbound          At   \n",
       "2   1.116667  ...   3705   DAVIDSON      I-65N  I-65  Northbound          At   \n",
       "3        NaN  ...   7579   DAVIDSON      I-65N  I-65  Northbound          At   \n",
       "4   3.016667  ...   7957   DAVIDSON      I-65N  I-65  Northbound          At   \n",
       "\n",
       "                                      Description Inc Mile Marker   Latitude  \\\n",
       "0    EXIT 104 SR-257 / BETHEL RD. / RIDGETOP                104.0  36.419130   \n",
       "1  EXIT 4 RIVERGATE PKWY. / GOODLETTSVILLE                    4.0  35.048795   \n",
       "2  EXIT 4 RIVERGATE PKWY. / GOODLETTSVILLE                    4.0  35.048795   \n",
       "3  EXIT 4 RIVERGATE PKWY. / GOODLETTSVILLE                    4.0  35.048795   \n",
       "4  EXIT 4 RIVERGATE PKWY. / GOODLETTSVILLE                    4.0  35.048795   \n",
       "\n",
       "   Longitude  \n",
       "0 -86.717748  \n",
       "1 -86.880272  \n",
       "2 -86.880272  \n",
       "3 -86.880272  \n",
       "4 -86.880272  \n",
       "\n",
       "[5 rows x 21 columns]"
      ]
     },
     "execution_count": 17,
     "metadata": {},
     "output_type": "execute_result"
    }
   ],
   "source": [
    "traffic_df.head()"
   ]
  },
  {
   "cell_type": "code",
   "execution_count": 16,
   "id": "92bb8232",
   "metadata": {
    "collapsed": true
   },
   "outputs": [
    {
     "data": {
      "text/html": [
       "<div>\n",
       "<style scoped>\n",
       "    .dataframe tbody tr th:only-of-type {\n",
       "        vertical-align: middle;\n",
       "    }\n",
       "\n",
       "    .dataframe tbody tr th {\n",
       "        vertical-align: top;\n",
       "    }\n",
       "\n",
       "    .dataframe thead th {\n",
       "        text-align: right;\n",
       "    }\n",
       "</style>\n",
       "<table border=\"1\" class=\"dataframe\">\n",
       "  <thead>\n",
       "    <tr style=\"text-align: right;\">\n",
       "      <th></th>\n",
       "      <th>Region</th>\n",
       "      <th>Incident ID</th>\n",
       "      <th>Incident Type</th>\n",
       "      <th>Full Location</th>\n",
       "      <th>Start Date</th>\n",
       "      <th>Start Time</th>\n",
       "      <th>Duration (mins)</th>\n",
       "      <th>Lanes\\nBlocked</th>\n",
       "      <th>Blockage\\nDuration</th>\n",
       "      <th>Resp Time</th>\n",
       "      <th>...</th>\n",
       "      <th>Key</th>\n",
       "      <th>County</th>\n",
       "      <th>Interstate</th>\n",
       "      <th>Route</th>\n",
       "      <th>Direction</th>\n",
       "      <th>Unnamed: 16</th>\n",
       "      <th>Description</th>\n",
       "      <th>Inc Mile Marker</th>\n",
       "      <th>Latitude</th>\n",
       "      <th>Longitude</th>\n",
       "    </tr>\n",
       "  </thead>\n",
       "  <tbody>\n",
       "    <tr>\n",
       "      <th>33725</th>\n",
       "      <td>3</td>\n",
       "      <td>106595</td>\n",
       "      <td>MultiVehicle Crash</td>\n",
       "      <td>DAVIDSON on Interstate 40 Westbound, Before MI...</td>\n",
       "      <td>44500.680486</td>\n",
       "      <td>44500.680486</td>\n",
       "      <td>38.016667</td>\n",
       "      <td>0</td>\n",
       "      <td>NaN</td>\n",
       "      <td>8.900000</td>\n",
       "      <td>...</td>\n",
       "      <td>37419</td>\n",
       "      <td>DAVIDSON</td>\n",
       "      <td>I-40W</td>\n",
       "      <td>I-40</td>\n",
       "      <td>Westbound</td>\n",
       "      <td>Before</td>\n",
       "      <td>MILE MARKER 217.4</td>\n",
       "      <td>217.4</td>\n",
       "      <td>36.142999</td>\n",
       "      <td>-86.650442</td>\n",
       "    </tr>\n",
       "    <tr>\n",
       "      <th>33726</th>\n",
       "      <td>3</td>\n",
       "      <td>106603</td>\n",
       "      <td>Debris on Roadway</td>\n",
       "      <td>DAVIDSON on Interstate 40 Westbound, Before MI...</td>\n",
       "      <td>44500.730648</td>\n",
       "      <td>44500.730648</td>\n",
       "      <td>1.383333</td>\n",
       "      <td>0</td>\n",
       "      <td>NaN</td>\n",
       "      <td>0.166667</td>\n",
       "      <td>...</td>\n",
       "      <td>37427</td>\n",
       "      <td>DAVIDSON</td>\n",
       "      <td>I-40W</td>\n",
       "      <td>I-40</td>\n",
       "      <td>Westbound</td>\n",
       "      <td>Before</td>\n",
       "      <td>MILE MARKER 213</td>\n",
       "      <td>213.0</td>\n",
       "      <td>36.140720</td>\n",
       "      <td>-86.727637</td>\n",
       "    </tr>\n",
       "    <tr>\n",
       "      <th>33727</th>\n",
       "      <td>3</td>\n",
       "      <td>106609</td>\n",
       "      <td>Debris on Roadway</td>\n",
       "      <td>DAVIDSON on Interstate 40 Eastbound, Before MI...</td>\n",
       "      <td>44500.754977</td>\n",
       "      <td>44500.754977</td>\n",
       "      <td>3.283333</td>\n",
       "      <td>1</td>\n",
       "      <td>1.866667</td>\n",
       "      <td>2.550000</td>\n",
       "      <td>...</td>\n",
       "      <td>37433</td>\n",
       "      <td>DAVIDSON</td>\n",
       "      <td>I-40E</td>\n",
       "      <td>I-40</td>\n",
       "      <td>Eastbound</td>\n",
       "      <td>Before</td>\n",
       "      <td>MILE MARKER 205.4</td>\n",
       "      <td>205.4</td>\n",
       "      <td>36.154497</td>\n",
       "      <td>-86.832437</td>\n",
       "    </tr>\n",
       "    <tr>\n",
       "      <th>33728</th>\n",
       "      <td>3</td>\n",
       "      <td>106610</td>\n",
       "      <td>Disabled Vehicle</td>\n",
       "      <td>DAVIDSON on Interstate 40 Eastbound, Beyond MI...</td>\n",
       "      <td>44500.759387</td>\n",
       "      <td>44500.759387</td>\n",
       "      <td>50.466667</td>\n",
       "      <td>0</td>\n",
       "      <td>NaN</td>\n",
       "      <td>0.033333</td>\n",
       "      <td>...</td>\n",
       "      <td>37434</td>\n",
       "      <td>DAVIDSON</td>\n",
       "      <td>I-40E</td>\n",
       "      <td>I-40</td>\n",
       "      <td>Eastbound</td>\n",
       "      <td>Beyond</td>\n",
       "      <td>MILE MARKER 218.8</td>\n",
       "      <td>218.8</td>\n",
       "      <td>36.154202</td>\n",
       "      <td>-86.631745</td>\n",
       "    </tr>\n",
       "    <tr>\n",
       "      <th>33729</th>\n",
       "      <td>3</td>\n",
       "      <td>106623</td>\n",
       "      <td>MultiVehicle Crash</td>\n",
       "      <td>DAVIDSON on Interstate 40 Eastbound, Before MI...</td>\n",
       "      <td>44500.899479</td>\n",
       "      <td>44500.899479</td>\n",
       "      <td>48.816667</td>\n",
       "      <td>2</td>\n",
       "      <td>48.366667</td>\n",
       "      <td>0.016667</td>\n",
       "      <td>...</td>\n",
       "      <td>37443</td>\n",
       "      <td>DAVIDSON</td>\n",
       "      <td>I-40E</td>\n",
       "      <td>I-40</td>\n",
       "      <td>Eastbound</td>\n",
       "      <td>Before</td>\n",
       "      <td>MILE MARKER 214.4</td>\n",
       "      <td>214.4</td>\n",
       "      <td>36.143086</td>\n",
       "      <td>-86.705514</td>\n",
       "    </tr>\n",
       "  </tbody>\n",
       "</table>\n",
       "<p>5 rows × 21 columns</p>\n",
       "</div>"
      ],
      "text/plain": [
       "       Region  Incident ID       Incident Type  \\\n",
       "33725       3       106595  MultiVehicle Crash   \n",
       "33726       3       106603   Debris on Roadway   \n",
       "33727       3       106609   Debris on Roadway   \n",
       "33728       3       106610    Disabled Vehicle   \n",
       "33729       3       106623  MultiVehicle Crash   \n",
       "\n",
       "                                          Full Location     Start Date  \\\n",
       "33725  DAVIDSON on Interstate 40 Westbound, Before MI...  44500.680486   \n",
       "33726  DAVIDSON on Interstate 40 Westbound, Before MI...  44500.730648   \n",
       "33727  DAVIDSON on Interstate 40 Eastbound, Before MI...  44500.754977   \n",
       "33728  DAVIDSON on Interstate 40 Eastbound, Beyond MI...  44500.759387   \n",
       "33729  DAVIDSON on Interstate 40 Eastbound, Before MI...  44500.899479   \n",
       "\n",
       "         Start Time  Duration (mins)  Lanes\\nBlocked  Blockage\\nDuration  \\\n",
       "33725  44500.680486        38.016667               0                 NaN   \n",
       "33726  44500.730648         1.383333               0                 NaN   \n",
       "33727  44500.754977         3.283333               1            1.866667   \n",
       "33728  44500.759387        50.466667               0                 NaN   \n",
       "33729  44500.899479        48.816667               2           48.366667   \n",
       "\n",
       "       Resp Time  ...   Key     County Interstate Route  Direction  \\\n",
       "33725   8.900000  ...  37419  DAVIDSON      I-40W  I-40  Westbound   \n",
       "33726   0.166667  ...  37427  DAVIDSON      I-40W  I-40  Westbound   \n",
       "33727   2.550000  ...  37433  DAVIDSON      I-40E  I-40  Eastbound   \n",
       "33728   0.033333  ...  37434  DAVIDSON      I-40E  I-40  Eastbound   \n",
       "33729   0.016667  ...  37443  DAVIDSON      I-40E  I-40  Eastbound   \n",
       "\n",
       "      Unnamed: 16                  Description Inc Mile Marker   Latitude  \\\n",
       "33725      Before  MILE MARKER 217.4                     217.4  36.142999   \n",
       "33726      Before    MILE MARKER 213                     213.0  36.140720   \n",
       "33727      Before  MILE MARKER 205.4                     205.4  36.154497   \n",
       "33728      Beyond  MILE MARKER 218.8                     218.8  36.154202   \n",
       "33729      Before  MILE MARKER 214.4                     214.4  36.143086   \n",
       "\n",
       "       Longitude  \n",
       "33725 -86.650442  \n",
       "33726 -86.727637  \n",
       "33727 -86.832437  \n",
       "33728 -86.631745  \n",
       "33729 -86.705514  \n",
       "\n",
       "[5 rows x 21 columns]"
      ]
     },
     "execution_count": 16,
     "metadata": {},
     "output_type": "execute_result"
    }
   ],
   "source": [
    "traffic_df.tail()"
   ]
  },
  {
   "cell_type": "code",
   "execution_count": 8,
   "id": "a3fbd7fa",
   "metadata": {
    "collapsed": true
   },
   "outputs": [
    {
     "name": "stdout",
     "output_type": "stream",
     "text": [
      "<class 'pandas.core.frame.DataFrame'>\n",
      "RangeIndex: 33730 entries, 0 to 33729\n",
      "Data columns (total 21 columns):\n",
      " #   Column             Non-Null Count  Dtype  \n",
      "---  ------             --------------  -----  \n",
      " 0   Region             33730 non-null  int64  \n",
      " 1   Incident ID        33730 non-null  int64  \n",
      " 2   Incident Type      33730 non-null  object \n",
      " 3   Full Location      33730 non-null  object \n",
      " 4   Start Date         33730 non-null  float64\n",
      " 5   Start Time         33730 non-null  float64\n",
      " 6   Duration (mins)    33730 non-null  float64\n",
      " 7   Lanes\n",
      "Blocked      33730 non-null  int64  \n",
      " 8   Blockage\n",
      "Duration  9208 non-null   float64\n",
      " 9   Resp Time          29366 non-null  float64\n",
      " 10  Rural/\n",
      "Urban       33730 non-null  object \n",
      " 11  Key                33730 non-null  int64  \n",
      " 12  County             33730 non-null  object \n",
      " 13  Interstate         33730 non-null  object \n",
      " 14  Route              33730 non-null  object \n",
      " 15  Direction          33730 non-null  object \n",
      " 16  Unnamed: 16        33730 non-null  object \n",
      " 17  Description        33730 non-null  object \n",
      " 18  Inc Mile Marker    33730 non-null  float64\n",
      " 19  Latitude           24269 non-null  float64\n",
      " 20  Longitude          24269 non-null  float64\n",
      "dtypes: float64(8), int64(4), object(9)\n",
      "memory usage: 5.4+ MB\n"
     ]
    }
   ],
   "source": [
    "traffic_df.info()"
   ]
  },
  {
   "cell_type": "code",
   "execution_count": 18,
   "id": "37ad43f5",
   "metadata": {},
   "outputs": [
    {
     "data": {
      "text/plain": [
       "Index(['Region', 'Incident ID', 'Incident Type', 'Full Location ',\n",
       "       'Start Date', 'Start Time', 'Duration (mins)', 'Lanes\\nBlocked',\n",
       "       'Blockage\\nDuration', 'Resp Time', 'Rural/\\nUrban', 'Key ', 'County',\n",
       "       'Interstate', 'Route', 'Direction', 'Unnamed: 16', 'Description',\n",
       "       'Inc Mile Marker', 'Latitude', 'Longitude'],\n",
       "      dtype='object')"
      ]
     },
     "execution_count": 18,
     "metadata": {},
     "output_type": "execute_result"
    }
   ],
   "source": [
    "traffic_df.columns"
   ]
  },
  {
   "cell_type": "code",
   "execution_count": null,
   "id": "0a629b60",
   "metadata": {},
   "outputs": [],
   "source": [
    "traffic_df['column name'].value_counts()"
   ]
  },
  {
   "cell_type": "code",
   "execution_count": null,
   "id": "d02742aa",
   "metadata": {},
   "outputs": [],
   "source": [
    "traffic_df['column name'].isnull().value_counts()"
   ]
  },
  {
   "cell_type": "code",
   "execution_count": null,
   "id": "251da5dd",
   "metadata": {},
   "outputs": [],
   "source": [
    "traffic_df['column'].unique()"
   ]
  },
  {
   "cell_type": "code",
   "execution_count": null,
   "id": "d0dd9333",
   "metadata": {},
   "outputs": [],
   "source": []
  },
  {
   "cell_type": "code",
   "execution_count": null,
   "id": "7d7962a2",
   "metadata": {},
   "outputs": [],
   "source": []
  },
  {
   "cell_type": "code",
   "execution_count": null,
   "id": "0ccb830b",
   "metadata": {},
   "outputs": [],
   "source": []
  },
  {
   "cell_type": "code",
   "execution_count": 12,
   "id": "c2158c12",
   "metadata": {},
   "outputs": [],
   "source": [
    "davidson = traffic_df[traffic_df['County']=='Davidson']"
   ]
  },
  {
   "cell_type": "code",
   "execution_count": 15,
   "id": "0e47d81b",
   "metadata": {},
   "outputs": [
    {
     "data": {
      "text/html": [
       "<div>\n",
       "<style scoped>\n",
       "    .dataframe tbody tr th:only-of-type {\n",
       "        vertical-align: middle;\n",
       "    }\n",
       "\n",
       "    .dataframe tbody tr th {\n",
       "        vertical-align: top;\n",
       "    }\n",
       "\n",
       "    .dataframe thead th {\n",
       "        text-align: right;\n",
       "    }\n",
       "</style>\n",
       "<table border=\"1\" class=\"dataframe\">\n",
       "  <thead>\n",
       "    <tr style=\"text-align: right;\">\n",
       "      <th></th>\n",
       "      <th>Region</th>\n",
       "      <th>Incident ID</th>\n",
       "      <th>Incident Type</th>\n",
       "      <th>Full Location</th>\n",
       "      <th>Start Date</th>\n",
       "      <th>Start Time</th>\n",
       "      <th>Duration (mins)</th>\n",
       "      <th>Lanes\\nBlocked</th>\n",
       "      <th>Blockage\\nDuration</th>\n",
       "      <th>Resp Time</th>\n",
       "      <th>...</th>\n",
       "      <th>Key</th>\n",
       "      <th>County</th>\n",
       "      <th>Interstate</th>\n",
       "      <th>Route</th>\n",
       "      <th>Direction</th>\n",
       "      <th>Unnamed: 16</th>\n",
       "      <th>Description</th>\n",
       "      <th>Inc Mile Marker</th>\n",
       "      <th>Latitude</th>\n",
       "      <th>Longitude</th>\n",
       "    </tr>\n",
       "  </thead>\n",
       "  <tbody>\n",
       "  </tbody>\n",
       "</table>\n",
       "<p>0 rows × 21 columns</p>\n",
       "</div>"
      ],
      "text/plain": [
       "Empty DataFrame\n",
       "Columns: [Region, Incident ID, Incident Type, Full Location , Start Date, Start Time, Duration (mins), Lanes\n",
       "Blocked, Blockage\n",
       "Duration, Resp Time, Rural/\n",
       "Urban, Key , County, Interstate, Route, Direction, Unnamed: 16, Description, Inc Mile Marker, Latitude, Longitude]\n",
       "Index: []\n",
       "\n",
       "[0 rows x 21 columns]"
      ]
     },
     "execution_count": 15,
     "metadata": {},
     "output_type": "execute_result"
    }
   ],
   "source": []
  },
  {
   "cell_type": "markdown",
   "id": "d5dd209b",
   "metadata": {},
   "source": [
    "### geospatial coding. update 'geometry' column"
   ]
  },
  {
   "cell_type": "code",
   "execution_count": null,
   "id": "da1381c3",
   "metadata": {},
   "outputs": [],
   "source": [
    "traffic_df['geometry'] = traffic_df.apply(lambda x: Point((float(x.Longitude),\n",
    "                                                   float(x.Latitude))),\n",
    "                                  axis=1)"
   ]
  },
  {
   "cell_type": "code",
   "execution_count": null,
   "id": "6fd83a9b",
   "metadata": {},
   "outputs": [],
   "source": [
    "traffic_df.head()"
   ]
  },
  {
   "cell_type": "code",
   "execution_count": null,
   "id": "4acc2aca",
   "metadata": {},
   "outputs": [],
   "source": [
    "traffic_geo = gpd.GeoDataFrame(traffic_df)"
   ]
  },
  {
   "cell_type": "code",
   "execution_count": null,
   "id": "d5a1a912",
   "metadata": {},
   "outputs": [],
   "source": [
    "traffic_geo.head()"
   ]
  },
  {
   "cell_type": "code",
   "execution_count": null,
   "id": "3501aa99",
   "metadata": {},
   "outputs": [],
   "source": [
    "type(traffic_geo)"
   ]
  },
  {
   "cell_type": "markdown",
   "id": "d1ed1b31",
   "metadata": {},
   "source": [
    "### Save the number of rows and columns as a tuple"
   ]
  },
  {
   "cell_type": "code",
   "execution_count": null,
   "id": "8d5a31f9",
   "metadata": {},
   "outputs": [],
   "source": [
    "rows_and_cols = traffic_df.shape\n",
    "print('There are {} rows and {} columns.\\n'.format(\n",
    "    rows_and_cols[0], rows_and_cols[1]))"
   ]
  },
  {
   "cell_type": "code",
   "execution_count": null,
   "id": "083eba58",
   "metadata": {},
   "outputs": [],
   "source": [
    "# compile the list of dataframes to be merged\n",
    "data_frames = [car_accident0, car_accident1, car_accident2,car_accident3, car_accident4]"
   ]
  },
  {
   "cell_type": "code",
   "execution_count": null,
   "id": "37d86412",
   "metadata": {},
   "outputs": [],
   "source": [
    "traffic_2021 = pd.concat([traffic_df, h_weather, d_weather], sort=True)\n",
    "traffic_2021.head(2)"
   ]
  },
  {
   "cell_type": "code",
   "execution_count": null,
   "id": "8dca7b48",
   "metadata": {},
   "outputs": [],
   "source": [
    "#The amount in brackets will populate. \n",
    "print('There are {} accidents in the data'.format(len(car_accidents_2010_2020)))"
   ]
  },
  {
   "cell_type": "code",
   "execution_count": null,
   "id": "6d2bebea",
   "metadata": {},
   "outputs": [],
   "source": []
  },
  {
   "cell_type": "code",
   "execution_count": null,
   "id": "472e15f4",
   "metadata": {},
   "outputs": [],
   "source": [
    "#dropping columns\n",
    "pd.set_option('display.max_columns', 1000)\n",
    "df.drop(['property_damage', 'accident_number', 'reporting_officer', 'collision_type', 'weather', 'illumination', \n",
    "         'harmful_codes', 'state_name', 'rpa', 'geocoded_column', ':@computed_region_wvby_4s8j', \n",
    "         ':@computed_region_3aw5_2wv7', ':@computed_region_p6sk_2acq', ':@computed_region_gxvr_9jxz',\n",
    "         'property_damage'], axis=1, inplace=True)\n",
    "df.tail()\n",
    "\n",
    "# columns listed\n",
    "'Region', 'Incident ID', 'Incident Type', 'Full Location ',\n",
    "       'Start Date', 'Start Time', 'Duration (mins)', 'Lanes\\nBlocked',\n",
    "       'Blockage\\nDuration', 'Resp Time', 'Rural/\\nUrban', 'Key ', 'County',\n",
    "       'Interstate', 'Route', 'Direction', 'Unnamed: 16', 'Description',\n",
    "       'Inc Mile Marker', 'Latitude', 'Longitude'"
   ]
  },
  {
   "cell_type": "code",
   "execution_count": null,
   "id": "4ea9772e",
   "metadata": {},
   "outputs": [],
   "source": []
  },
  {
   "cell_type": "code",
   "execution_count": null,
   "id": "5fb0c771",
   "metadata": {},
   "outputs": [],
   "source": []
  },
  {
   "cell_type": "markdown",
   "id": "489d6f29",
   "metadata": {},
   "source": [
    "### top _ sorted "
   ]
  },
  {
   "cell_type": "code",
   "execution_count": null,
   "id": "6157c41c",
   "metadata": {},
   "outputs": [],
   "source": [
    "gdp_and_internet_use_2014.sort_values(by = 'Internet_Users_Pct', ascending = False).head()"
   ]
  },
  {
   "cell_type": "code",
   "execution_count": null,
   "id": "cc628f9e",
   "metadata": {},
   "outputs": [],
   "source": []
  },
  {
   "cell_type": "markdown",
   "id": "d9733f84",
   "metadata": {},
   "source": [
    "### Reviewing Weather Data"
   ]
  },
  {
   "cell_type": "code",
   "execution_count": null,
   "id": "7da3922d",
   "metadata": {},
   "outputs": [],
   "source": [
    "h_weather.head()"
   ]
  },
  {
   "cell_type": "code",
   "execution_count": null,
   "id": "07a11236",
   "metadata": {},
   "outputs": [],
   "source": [
    "h_weather.columns"
   ]
  },
  {
   "cell_type": "code",
   "execution_count": null,
   "id": "adf71b57",
   "metadata": {},
   "outputs": [],
   "source": [
    "d_weather.head()"
   ]
  },
  {
   "cell_type": "code",
   "execution_count": null,
   "id": "0c4ad246",
   "metadata": {},
   "outputs": [],
   "source": [
    "d_weather.columns"
   ]
  },
  {
   "cell_type": "code",
   "execution_count": null,
   "id": "2bd8e2b8",
   "metadata": {},
   "outputs": [],
   "source": []
  },
  {
   "cell_type": "markdown",
   "id": "4f5a05c0",
   "metadata": {},
   "source": [
    "### Date/Time"
   ]
  },
  {
   "cell_type": "code",
   "execution_count": null,
   "id": "a1913737",
   "metadata": {},
   "outputs": [],
   "source": [
    "car_accidents_2010_2020['DateTime'] = pd.to_datetime(car_accidents_2010_2020['Date and Time'])\n",
    "car_accidents_2010_2020['date'] = car_accidents_2010_2020['DateTime'].dt.date\n",
    "car_accidents_2010_2020['time'] = car_accidents_2010_2020['DateTime'].dt.time"
   ]
  },
  {
   "cell_type": "code",
   "execution_count": null,
   "id": "8e2900ea",
   "metadata": {},
   "outputs": [],
   "source": [
    "car_accidents_2010_2020 = car_accidents_2010_2020.set_index('DateTime')\n",
    "car_accidents_2010_2020.head(3)"
   ]
  },
  {
   "cell_type": "code",
   "execution_count": null,
   "id": "cb14be5e",
   "metadata": {},
   "outputs": [],
   "source": []
  },
  {
   "cell_type": "markdown",
   "id": "10826dec",
   "metadata": {},
   "source": [
    "### Histographs"
   ]
  },
  {
   "cell_type": "code",
   "execution_count": null,
   "id": "0c78a764",
   "metadata": {},
   "outputs": [],
   "source": [
    "traffic_df['column name'].value_counts()"
   ]
  },
  {
   "cell_type": "code",
   "execution_count": null,
   "id": "5a21825b",
   "metadata": {},
   "outputs": [],
   "source": [
    "traffic_df['number_of_motor_vehicles'] = pd.to_numeric(traffic_df['number_of_motor_vehicles'])  \n",
    "                                                                        \n",
    "traffic_df.hist(['number_of_motor_vehicles'])"
   ]
  },
  {
   "cell_type": "code",
   "execution_count": null,
   "id": "fe87c6d4",
   "metadata": {},
   "outputs": [],
   "source": []
  },
  {
   "cell_type": "code",
   "execution_count": null,
   "id": "1a3001dd",
   "metadata": {},
   "outputs": [],
   "source": [
    "car_accidents_2010_2020['Collision Type'].value_counts(normalize=True).sort_index().plot.bar()\n",
    "plt.grid()\n",
    "plt.title('collision Type')\n",
    "plt.xlabel('Collision Type')\n",
    "plt.ylabel('Fraction');"
   ]
  },
  {
   "cell_type": "code",
   "execution_count": null,
   "id": "200bebb7",
   "metadata": {},
   "outputs": [],
   "source": [
    "car_accidents_2010_2020['Collision Type'].value_counts().plot.bar()\n",
    "plt.grid()\n",
    "plt.title('collision Type')\n",
    "plt.xlabel('Collision Type')\n",
    "plt.ylabel('Fraction');"
   ]
  },
  {
   "cell_type": "code",
   "execution_count": null,
   "id": "afb7d06a",
   "metadata": {},
   "outputs": [],
   "source": [
    "car_accidents_2010_2020['Collision Type Description'].value_counts(normalize=True).sort_index().plot.bar()\n",
    "plt.grid()\n",
    "plt.title('Collision Type Description')\n",
    "plt.xlabel('Collision Type Description')\n",
    "plt.ylabel('Fraction');"
   ]
  },
  {
   "cell_type": "code",
   "execution_count": null,
   "id": "f5b62a90",
   "metadata": {},
   "outputs": [],
   "source": [
    "car_accidents_2010_2020['Collision Type Description'].value_counts().plot.bar()\n",
    "plt.grid()\n",
    "plt.title('Collision Type Description')\n",
    "plt.xlabel('Collision Type Description')\n",
    "plt.ylabel('Total count');"
   ]
  },
  {
   "cell_type": "code",
   "execution_count": null,
   "id": "5da84738",
   "metadata": {},
   "outputs": [],
   "source": []
  },
  {
   "cell_type": "code",
   "execution_count": null,
   "id": "3acfb13d",
   "metadata": {},
   "outputs": [],
   "source": [
    "car_accidents_2010_2020['Weekday'] = car_accidents_2010_2020.index.weekday_name\n",
    "weekday = car_accidents_2010_2020.groupby('Weekday')['Accident Number'].count()\n",
    "weekday = weekday/weekday.sum()\n",
    "dayOfWeek=['Monday','Tuesday','Wednesday','Thursday','Friday','Saturday','Sunday']\n",
    "weekday[dayOfWeek].plot.bar()\n",
    "plt.title('Acccidents by Weekday')\n",
    "plt.xlabel('Weekday')\n",
    "plt.ylabel('Accidents');"
   ]
  },
  {
   "cell_type": "code",
   "execution_count": null,
   "id": "48bcf55d",
   "metadata": {},
   "outputs": [],
   "source": []
  },
  {
   "cell_type": "code",
   "execution_count": null,
   "id": "dfedc90f",
   "metadata": {},
   "outputs": [],
   "source": [
    "years = ['2010','2011','2012','2013', '2014', '2015', '2016', '2017', '2018', '2019']\n",
    "fig, _ = plt.subplots(1,10,figsize=(21,7), sharex='all', sharey='all')\n",
    "\n",
    "fig.suptitle('Acccidents by Weekday for Different Years')\n",
    "plt.xlabel('Weekday')\n",
    "plt.ylabel('Accidents')\n",
    "for i, year in enumerate(years,1):\n",
    "    weekday = car_accidents_2010_2020.loc[year].groupby('Weekday')['Accident Number'].count()\n",
    "    weekday = weekday/weekday.sum()\n",
    "    dayOfWeek=['Monday','Tuesday','Wednesday','Thursday','Friday','Saturday','Sunday']\n",
    "    plt.subplot(1,10,i)\n",
    "    plt.title(year)\n",
    "    weekday[dayOfWeek].plot.bar()"
   ]
  },
  {
   "cell_type": "code",
   "execution_count": null,
   "id": "34f88d32",
   "metadata": {},
   "outputs": [],
   "source": []
  },
  {
   "cell_type": "code",
   "execution_count": null,
   "id": "3d6e0dce",
   "metadata": {},
   "outputs": [],
   "source": []
  },
  {
   "cell_type": "code",
   "execution_count": null,
   "id": "270f9636",
   "metadata": {},
   "outputs": [],
   "source": []
  },
  {
   "cell_type": "markdown",
   "id": "24448ad6",
   "metadata": {},
   "source": [
    "### Create scatterplots"
   ]
  },
  {
   "cell_type": "code",
   "execution_count": null,
   "id": "18563b4f",
   "metadata": {},
   "outputs": [],
   "source": [
    "plt.figure(figsize = (15,10))\n",
    "sns.scatterplot(x = 'Internet_Users_Pct', y = 'GDP_Per_Capita', data = gdp_and_internet_use_2004, alpha = 0.9)\n",
    "plt.title('2004 Percent Using the Internet vs GDP Per Capita', fontsize = 15)\n",
    "plt.xlabel('Percentage of Internet Users', fontsize = 12)\n",
    "plt.ylabel('GDP Per Capita', fontsize = 12)"
   ]
  },
  {
   "cell_type": "code",
   "execution_count": null,
   "id": "234370eb",
   "metadata": {},
   "outputs": [],
   "source": []
  },
  {
   "cell_type": "code",
   "execution_count": null,
   "id": "6e1261f5",
   "metadata": {},
   "outputs": [],
   "source": []
  },
  {
   "cell_type": "code",
   "execution_count": null,
   "id": "1302d86a",
   "metadata": {},
   "outputs": [],
   "source": []
  },
  {
   "cell_type": "code",
   "execution_count": null,
   "id": "3648e485",
   "metadata": {},
   "outputs": [],
   "source": [
    "# distribution of gdp per capita \n",
    "ax = sns.distplot(gdp_and_internet_use.gdp_percapita,\n",
    "                 bins = 25,\n",
    "                  hist_kw={'alpha' :.2})\n",
    "ax.set(xlabel = 'GDP per Capita', ylabel = 'Frequency')"
   ]
  },
  {
   "cell_type": "code",
   "execution_count": null,
   "id": "f69f04f6",
   "metadata": {},
   "outputs": [],
   "source": []
  },
  {
   "cell_type": "code",
   "execution_count": null,
   "id": "5459cdec",
   "metadata": {},
   "outputs": [],
   "source": [
    "#internet use\n",
    "ax = sns.distplot(gdp_and_internet_use.Internet_Users_Pct,\n",
    "                 bins = 25,\n",
    "                  color  = 'green',\n",
    "                  hist_kw={'alpha':.4})\n",
    "ax.set(xlabel = 'Internet User Pct', ylabel = 'Frequency')"
   ]
  },
  {
   "cell_type": "code",
   "execution_count": null,
   "id": "7dd3ce87",
   "metadata": {},
   "outputs": [],
   "source": []
  },
  {
   "cell_type": "code",
   "execution_count": null,
   "id": "a0c85659",
   "metadata": {},
   "outputs": [],
   "source": []
  },
  {
   "cell_type": "code",
   "execution_count": null,
   "id": "5179a1ed",
   "metadata": {},
   "outputs": [],
   "source": [
    "years = ['2010','2011','2012','2013', '2014', '2015', '2016', '2017', '2018', '2019']\n",
    "fig, _ = plt.subplots(1,10, figsize=(44,8), sharex='all', sharey='all')\n",
    "\n",
    "fig.suptitle('Acccidents by month for Different Years')\n",
    "plt.xlabel('month')\n",
    "plt.ylabel('Accidents')\n",
    "for i, year in enumerate(years,1):\n",
    "    plt.subplot(1,10,i)\n",
    "    sample = car_accidents_2010_2020.loc[year]['Accident Number'].resample('M').count()\n",
    "    sample.plot()\n",
    "    plt.ylim(0,8000)\n",
    "    plt.title('Accidents, {} count'.format(text))\n",
    "    plt.xlabel('Year')\n",
    "    plt.ylabel('Accident Count');"
   ]
  },
  {
   "cell_type": "code",
   "execution_count": null,
   "id": "c1536644",
   "metadata": {},
   "outputs": [],
   "source": []
  },
  {
   "cell_type": "code",
   "execution_count": null,
   "id": "a01fcf6d",
   "metadata": {},
   "outputs": [],
   "source": []
  },
  {
   "cell_type": "code",
   "execution_count": null,
   "id": "8280b515",
   "metadata": {},
   "outputs": [],
   "source": []
  },
  {
   "cell_type": "code",
   "execution_count": null,
   "id": "1ac4cab2",
   "metadata": {},
   "outputs": [],
   "source": []
  }
 ],
 "metadata": {
  "kernelspec": {
   "display_name": "Python 3",
   "language": "python",
   "name": "python3"
  },
  "language_info": {
   "codemirror_mode": {
    "name": "ipython",
    "version": 3
   },
   "file_extension": ".py",
   "mimetype": "text/x-python",
   "name": "python",
   "nbconvert_exporter": "python",
   "pygments_lexer": "ipython3",
   "version": "3.8.8"
  }
 },
 "nbformat": 4,
 "nbformat_minor": 5
}
