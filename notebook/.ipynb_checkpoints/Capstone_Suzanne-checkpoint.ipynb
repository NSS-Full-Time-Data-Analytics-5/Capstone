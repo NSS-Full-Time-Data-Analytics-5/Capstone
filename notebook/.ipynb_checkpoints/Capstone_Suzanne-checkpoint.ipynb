{
 "cells": [
  {
   "cell_type": "markdown",
   "id": "627082ed",
   "metadata": {},
   "source": [
    "# Traffic Incident Management in Nashville, TN"
   ]
  },
  {
   "cell_type": "markdown",
   "id": "b12993b0",
   "metadata": {},
   "source": [
    "### Loading the libraries"
   ]
  },
  {
   "cell_type": "code",
   "execution_count": null,
   "id": "3dc753bb",
   "metadata": {},
   "outputs": [],
   "source": [
    "from shapely.geometry import Point\n",
    "import pandas as pd\n",
    "import geopandas as gpd\n",
    "import seaborn as sns\n",
    "import numpy as np\n",
    "import matplotlib.pyplot as plt\n",
    "import folium\n",
    "import datetime\n",
    "import math\n",
    "import re\n",
    "from folium.plugins import MarkerCluster\n",
    "from folium.plugins import FastMarkerCluster\n",
    "\n",
    "%matplotlib inline"
   ]
  },
  {
   "cell_type": "markdown",
   "id": "d173ef3e",
   "metadata": {},
   "source": [
    "### Importing the data"
   ]
  },
  {
   "cell_type": "code",
   "execution_count": null,
   "id": "a781c07b",
   "metadata": {},
   "outputs": [],
   "source": [
    "traffic_df = pd.read_csv('../data/Interstate Data Merge.S.csv')"
   ]
  },
  {
   "cell_type": "markdown",
   "id": "40c3b5e7",
   "metadata": {},
   "source": [
    "### Reviewing the data"
   ]
  },
  {
   "cell_type": "code",
   "execution_count": null,
   "id": "9ea3cb76",
   "metadata": {},
   "outputs": [],
   "source": [
    "print(traffic_df.shape)"
   ]
  },
  {
   "cell_type": "code",
   "execution_count": null,
   "id": "1eb4ac29",
   "metadata": {},
   "outputs": [],
   "source": [
    "print(traffic_df.crs)"
   ]
  },
  {
   "cell_type": "code",
   "execution_count": null,
   "id": "d1581905",
   "metadata": {},
   "outputs": [],
   "source": [
    "traffic_df.head(10)"
   ]
  },
  {
   "cell_type": "code",
   "execution_count": null,
   "id": "aca0b83c",
   "metadata": {},
   "outputs": [],
   "source": [
    "traffic_df.info()"
   ]
  },
  {
   "cell_type": "markdown",
   "id": "6059b1fd",
   "metadata": {},
   "source": [
    "#### geospatial coding. update 'geometry' column"
   ]
  },
  {
   "cell_type": "code",
   "execution_count": null,
   "id": "c9dbf290",
   "metadata": {},
   "outputs": [],
   "source": [
    "nash = traffic_df[traffic_df['column name']=='row name in column']"
   ]
  },
  {
   "cell_type": "code",
   "execution_count": null,
   "id": "d5444ae9",
   "metadata": {},
   "outputs": [],
   "source": [
    "traffic_df['geometry'] = traffic_df.apply(lambda x: Point((float(x.Longitude),\n",
    "                                                   float(x.Latitude))),\n",
    "                                  axis=1)"
   ]
  },
  {
   "cell_type": "code",
   "execution_count": null,
   "id": "87b8d372",
   "metadata": {},
   "outputs": [],
   "source": [
    "traffic_df.head()"
   ]
  },
  {
   "cell_type": "code",
   "execution_count": null,
   "id": "70bd6491",
   "metadata": {},
   "outputs": [],
   "source": [
    "traffic_geo = gpd.GeoDataFrame(traffic_df)"
   ]
  },
  {
   "cell_type": "code",
   "execution_count": null,
   "id": "44a2f265",
   "metadata": {},
   "outputs": [],
   "source": [
    "traffic_geo.head()"
   ]
  },
  {
   "cell_type": "code",
   "execution_count": null,
   "id": "17c5d458",
   "metadata": {},
   "outputs": [],
   "source": [
    "type(traffic_geo)"
   ]
  },
  {
   "cell_type": "markdown",
   "id": "d1ed1b31",
   "metadata": {},
   "source": [
    "### Save the number of rows and columns as a tuple"
   ]
  },
  {
   "cell_type": "code",
   "execution_count": null,
   "id": "8d5a31f9",
   "metadata": {},
   "outputs": [],
   "source": []
  },
  {
   "cell_type": "code",
   "execution_count": null,
   "id": "6a711b02",
   "metadata": {},
   "outputs": [],
   "source": []
  },
  {
   "cell_type": "code",
   "execution_count": null,
   "id": "5eccb9d9",
   "metadata": {},
   "outputs": [],
   "source": []
  },
  {
   "cell_type": "code",
   "execution_count": null,
   "id": "57d27923",
   "metadata": {},
   "outputs": [],
   "source": []
  },
  {
   "cell_type": "code",
   "execution_count": null,
   "id": "66673151",
   "metadata": {},
   "outputs": [],
   "source": []
  },
  {
   "cell_type": "code",
   "execution_count": null,
   "id": "979f8bf6",
   "metadata": {},
   "outputs": [],
   "source": []
  }
 ],
 "metadata": {
  "kernelspec": {
   "display_name": "Python [conda env:geospatial]",
   "language": "python",
   "name": "conda-env-geospatial-py"
  },
  "language_info": {
   "codemirror_mode": {
    "name": "ipython",
    "version": 3
   },
   "file_extension": ".py",
   "mimetype": "text/x-python",
   "name": "python",
   "nbconvert_exporter": "python",
   "pygments_lexer": "ipython3",
   "version": "3.8.5"
  }
 },
 "nbformat": 4,
 "nbformat_minor": 5
}
