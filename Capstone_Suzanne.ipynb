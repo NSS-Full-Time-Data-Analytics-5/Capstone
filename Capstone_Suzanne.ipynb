{
 "cells": [
  {
   "cell_type": "markdown",
   "id": "627082ed",
   "metadata": {},
   "source": [
    "# Traffic Incident Management in Nashville, TN"
   ]
  },
  {
   "cell_type": "markdown",
   "id": "b12993b0",
   "metadata": {},
   "source": [
    "### Loading the libraries"
   ]
  },
  {
   "cell_type": "code",
   "execution_count": null,
   "id": "3dc753bb",
   "metadata": {},
   "outputs": [],
   "source": [
    "import pandas as pd\n",
    "import seaborn as sns\n",
    "import numpy as np\n",
    "import matplotlib.pyplot as plt\n",
    "import datetime\n",
    "import math\n",
    "import re\n",
    "\n",
    "%matplotlib inline"
   ]
  },
  {
   "cell_type": "markdown",
   "id": "d173ef3e",
   "metadata": {},
   "source": [
    "### Importing the data"
   ]
  },
  {
   "cell_type": "code",
   "execution_count": null,
   "id": "a781c07b",
   "metadata": {},
   "outputs": [],
   "source": [
    "traffic_df = pd.read_csv('../data/Capstone traffic incident mgmt data.csv')"
   ]
  },
  {
   "cell_type": "markdown",
   "id": "40c3b5e7",
   "metadata": {},
   "source": [
    "### Reviewing the data"
   ]
  },
  {
   "cell_type": "code",
   "execution_count": null,
   "id": "9ea3cb76",
   "metadata": {},
   "outputs": [],
   "source": [
    "traffic_df.shape"
   ]
  },
  {
   "cell_type": "code",
   "execution_count": null,
   "id": "1eb4ac29",
   "metadata": {},
   "outputs": [],
   "source": [
    "traffic_info"
   ]
  },
  {
   "cell_type": "code",
   "execution_count": null,
   "id": "d1581905",
   "metadata": {},
   "outputs": [],
   "source": [
    "traffic.head(10)"
   ]
  },
  {
   "cell_type": "markdown",
   "id": "d1ed1b31",
   "metadata": {},
   "source": [
    "### Save the number of rows and columns as a tuple"
   ]
  },
  {
   "cell_type": "code",
   "execution_count": null,
   "id": "8d5a31f9",
   "metadata": {},
   "outputs": [],
   "source": []
  },
  {
   "cell_type": "code",
   "execution_count": null,
   "id": "6a711b02",
   "metadata": {},
   "outputs": [],
   "source": []
  },
  {
   "cell_type": "code",
   "execution_count": null,
   "id": "5eccb9d9",
   "metadata": {},
   "outputs": [],
   "source": []
  }
 ],
 "metadata": {
  "kernelspec": {
   "display_name": "Python [conda env:geospatial]",
   "language": "python",
   "name": "conda-env-geospatial-py"
  },
  "language_info": {
   "codemirror_mode": {
    "name": "ipython",
    "version": 3
   },
   "file_extension": ".py",
   "mimetype": "text/x-python",
   "name": "python",
   "nbconvert_exporter": "python",
   "pygments_lexer": "ipython3",
   "version": "3.8.5"
  }
 },
 "nbformat": 4,
 "nbformat_minor": 5
}
